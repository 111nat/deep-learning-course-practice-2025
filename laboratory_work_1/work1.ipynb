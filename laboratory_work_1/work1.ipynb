{
 "cells": [
  {
   "cell_type": "markdown",
   "id": "c9252c50",
   "metadata": {},
   "source": [
    "Загрузка данных и подготовка для работы"
   ]
  },
  {
   "cell_type": "code",
   "execution_count": 1,
   "id": "4b4eb398",
   "metadata": {},
   "outputs": [],
   "source": [
    "from sklearn.datasets import fetch_openml\n",
    "import numpy as np\n",
    "\n",
    "mnist = fetch_openml('mnist_784', version=1)\n",
    "X = mnist.data.to_numpy() / 255.0\n",
    "y = mnist.target.astype(int).to_numpy()\n",
    "\n",
    "X_train, X_test = X[:60000], X[60000:]\n",
    "y_train, y_test = y[:60000], y[60000:]\n",
    "\n",
    "def one_hot(y, num_classes=10):\n",
    "    return np.eye(num_classes)[y]\n",
    "\n",
    "Y_train = one_hot(y_train)\n",
    "Y_test = one_hot(y_test)\n",
    "\n"
   ]
  },
  {
   "cell_type": "code",
   "execution_count": null,
   "id": "df1f4ca3",
   "metadata": {},
   "outputs": [
    {
     "name": "stdout",
     "output_type": "stream",
     "text": [
      "Форма X_train: (60000, 784)\n",
      "Форма Y_train: (60000, 10)\n"
     ]
    },
    {
     "data": {
      "image/png": "[encoded data removed]",
      "text/plain": [
       "<Figure size 640x480 with 1 Axes>"
      ]
     },
     "metadata": {},
     "output_type": "display_data"
    }
   ],
   "source": [
    "print(\"Форма X_train:\", X_train.shape)\n",
    "print(\"Форма Y_train:\", Y_train.shape)\n",
    "\n",
    "\n",
    "import matplotlib.pyplot as plt\n",
    "plt.imshow(X_train[0].reshape(28, 28), cmap='gray')\n",
    "plt.title(f\"Метка: {y_train[0]}\")\n",
    "plt.show()\n"
   ]
  },
  {
   "cell_type": "code",
   "execution_count": 3,
   "id": "6be86bc8",
   "metadata": {},
   "outputs": [],
   "source": [
    "def initialize_params(input_size, hidden_size, output_size):\n",
    "    np.random.seed(42) \n",
    "    \n",
    "    W1 = np.random.randn(input_size, hidden_size) * np.sqrt(2. / input_size)\n",
    "    \n",
    "    b1 = np.zeros((1, hidden_size))\n",
    "\n",
    "    \n",
    "    W2 = np.random.randn(hidden_size, output_size) * np.sqrt(2. / hidden_size)\n",
    "    \n",
    "    b2 = np.zeros((1, output_size))\n",
    "\n",
    "    \n",
    "    params = {\"W1\": W1, \"b1\": b1, \"W2\": W2, \"b2\": b2}\n",
    "    return params\n",
    "\n",
    "\n",
    "\n",
    "\n",
    "def relu(z):\n",
    "    return np.maximum(0, z)\n",
    "\n",
    "def softmax(z):\n",
    "    exp_z = np.exp(z - np.max(z, axis=1, keepdims=True))  \n",
    "    return exp_z / np.sum(exp_z, axis=1, keepdims=True)\n",
    "\n",
    "\n",
    "\n",
    "def forward_pass(X, params):\n",
    "\n",
    "    W1, b1, W2, b2 = params[\"W1\"], params[\"b1\"], params[\"W2\"], params[\"b2\"]\n",
    "\n",
    "    Z1 = np.dot(X, W1) + b1       \n",
    "    A1 = relu(Z1)                  \n",
    "\n",
    "   \n",
    "    Z2 = np.dot(A1, W2) + b2       \n",
    "    A2 = softmax(Z2)               \n",
    "\n",
    "    cache = {\"Z1\": Z1, \"A1\": A1, \"Z2\": Z2, \"A2\": A2}\n",
    "    return A2, cache"
   ]
  },
  {
   "cell_type": "code",
   "execution_count": 4,
   "id": "482719eb",
   "metadata": {},
   "outputs": [],
   "source": [
    "def compute_loss(y_true, y_pred):\n",
    "    m = y_true.shape[0]\n",
    "    loss = -np.sum(y_true * np.log(y_pred + 1e-9)) / m\n",
    "    return loss\n",
    "\n",
    "\n",
    "def backward_pass(X, y_true, params, cache):\n",
    "    m = X.shape[0]\n",
    "    W1, b1, W2, b2 = params[\"W1\"], params[\"b1\"], params[\"W2\"], params[\"b2\"]\n",
    "    A1, A2 = cache[\"A1\"], cache[\"A2\"]\n",
    "\n",
    "\n",
    "    dZ2 = A2 - y_true                 \n",
    "    dW2 = np.dot(A1.T, dZ2) / m       \n",
    "    db2 = np.sum(dZ2, axis=0, keepdims=True) / m\n",
    "\n",
    "    \n",
    "    dA1 = np.dot(dZ2, W2.T)\n",
    "    dZ1 = dA1 * (cache[\"Z1\"] > 0)     \n",
    "    dW1 = np.dot(X.T, dZ1) / m\n",
    "    db1 = np.sum(dZ1, axis=0, keepdims=True) / m\n",
    "\n",
    "    grads = {\"dW1\": dW1, \"db1\": db1, \"dW2\": dW2, \"db2\": db2}\n",
    "    return grads\n",
    "\n",
    "\n",
    "def update_params(params, grads, learning_rate):\n",
    "\n",
    "    for key in params.keys():\n",
    "        params[key] -= learning_rate * grads[\"d\" + key]\n",
    "    return params\n"
   ]
  },
  {
   "cell_type": "code",
   "execution_count": 5,
   "id": "804ac8eb",
   "metadata": {},
   "outputs": [],
   "source": [
    "def one_hot_encode(y, num_classes=10):\n",
    "    y_encoded = np.zeros((y.size, num_classes))\n",
    "    y_encoded[np.arange(y.size), y] = 1\n",
    "    return y_encoded\n",
    "\n",
    "\n",
    "def train(X_train, y_train, X_test, y_test, params, epochs=20, batch_size=64, learning_rate=0.1):\n",
    "\n",
    "\n",
    "    y_train_oh = one_hot_encode(y_train)\n",
    "    \n",
    "\n",
    "    n_train = X_train.shape[0]\n",
    "    history = []\n",
    "\n",
    "    for epoch in range(epochs):\n",
    "        indices = np.random.permutation(n_train)\n",
    "        X_train = X_train[indices]\n",
    "        y_train_oh = y_train_oh[indices]\n",
    "\n",
    "        total_loss = 0\n",
    "        correct = 0\n",
    "\n",
    "\n",
    "        for i in range(0, n_train, batch_size):\n",
    "            X_batch = X_train[i:i+batch_size]\n",
    "            y_batch = y_train_oh[i:i+batch_size]\n",
    "\n",
    "\n",
    "            y_pred, cache = forward_pass(X_batch, params)\n",
    "\n",
    "\n",
    "            loss = compute_loss(y_batch, y_pred)\n",
    "            total_loss += loss\n",
    "\n",
    "\n",
    "            predictions = np.argmax(y_pred, axis=1)\n",
    "            labels = np.argmax(y_batch, axis=1)\n",
    "            correct += np.sum(predictions == labels)\n",
    "\n",
    "\n",
    "            grads = backward_pass(X_batch, y_batch, params, cache)\n",
    "\n",
    "            params = update_params(params, grads, learning_rate)\n",
    "\n",
    "\n",
    "        accuracy = correct / n_train\n",
    "        avg_loss = total_loss / (n_train // batch_size)\n",
    "        history.append((accuracy, avg_loss))\n",
    "\n",
    "        print(f\"Эпоха {epoch+1}/{epochs} — Потеря: {avg_loss:.4f} — Точность: {accuracy*100:.2f}%\")\n",
    "\n",
    "    return params, history\n"
   ]
  },
  {
   "cell_type": "code",
   "execution_count": 6,
   "id": "162bfbc5",
   "metadata": {},
   "outputs": [],
   "source": [
    "def evaluate(X_test, y_test, params):\n",
    "    y_pred, _ = forward_pass(X_test, params)\n",
    "    predictions = np.argmax(y_pred, axis=1)\n",
    "    accuracy = np.mean(predictions == y_test)\n",
    "    print(f\"Точность на тестовых данных: {accuracy*100:.2f}%\")\n",
    "    return accuracy\n"
   ]
  },
  {
   "cell_type": "code",
   "execution_count": 7,
   "id": "788d6f67",
   "metadata": {},
   "outputs": [
    {
     "name": "stdout",
     "output_type": "stream",
     "text": [
      "Эпоха 1/20 — Потеря: 0.3603 — Точность: 90.01%\n",
      "Эпоха 2/20 — Потеря: 0.1894 — Точность: 94.66%\n",
      "Эпоха 3/20 — Потеря: 0.1391 — Точность: 96.03%\n",
      "Эпоха 4/20 — Потеря: 0.1114 — Точность: 96.84%\n",
      "Эпоха 5/20 — Потеря: 0.0927 — Точность: 97.40%\n",
      "Эпоха 6/20 — Потеря: 0.0793 — Точность: 97.83%\n",
      "Эпоха 7/20 — Потеря: 0.0689 — Точность: 98.09%\n",
      "Эпоха 8/20 — Потеря: 0.0606 — Точность: 98.35%\n",
      "Эпоха 9/20 — Потеря: 0.0533 — Точность: 98.60%\n",
      "Эпоха 10/20 — Потеря: 0.0481 — Точность: 98.73%\n",
      "Эпоха 11/20 — Потеря: 0.0431 — Точность: 98.89%\n",
      "Эпоха 12/20 — Потеря: 0.0389 — Точность: 99.04%\n",
      "Эпоха 13/20 — Потеря: 0.0351 — Точность: 99.17%\n",
      "Эпоха 14/20 — Потеря: 0.0319 — Точность: 99.25%\n",
      "Эпоха 15/20 — Потеря: 0.0290 — Точность: 99.33%\n",
      "Эпоха 16/20 — Потеря: 0.0265 — Точность: 99.42%\n",
      "Эпоха 17/20 — Потеря: 0.0241 — Точность: 99.50%\n",
      "Эпоха 18/20 — Потеря: 0.0219 — Точность: 99.56%\n",
      "Эпоха 19/20 — Потеря: 0.0203 — Точность: 99.64%\n",
      "Эпоха 20/20 — Потеря: 0.0186 — Точность: 99.69%\n",
      "Точность на тестовых данных: 98.18%\n"
     ]
    },
    {
     "data": {
      "text/plain": [
       "np.float64(0.9818)"
      ]
     },
     "execution_count": 7,
     "metadata": {},
     "output_type": "execute_result"
    }
   ],
   "source": [
    "\n",
    "input_size = 784\n",
    "hidden_size = 300\n",
    "output_size = 10\n",
    "\n",
    "\n",
    "params = initialize_params(input_size, hidden_size, output_size)\n",
    "\n",
    "\n",
    "params, history = train(\n",
    "    X_train, y_train,\n",
    "    X_test, y_test,\n",
    "    params,\n",
    "    epochs=20,\n",
    "    batch_size=64,\n",
    "    learning_rate=0.1\n",
    ")\n",
    "\n",
    "\n",
    "evaluate(X_test, y_test, params)\n"
   ]
  }
 ],
 "metadata": {
  "kernelspec": {
   "display_name": "Python 3",
   "language": "python",
   "name": "python3"
  },
  "language_info": {
   "codemirror_mode": {
    "name": "ipython",
    "version": 3
   },
   "file_extension": ".py",
   "mimetype": "text/x-python",
   "name": "python",
   "nbconvert_exporter": "python",
   "pygments_lexer": "ipython3",
   "version": "3.12.6"
  }
 },
 "nbformat": 4,
 "nbformat_minor": 5
}
